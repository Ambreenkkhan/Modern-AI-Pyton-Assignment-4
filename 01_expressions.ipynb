{
  "cells": [
    {
      "cell_type": "markdown",
      "metadata": {
        "id": "view-in-github",
        "colab_type": "text"
      },
      "source": [
        "<a href=\"https://colab.research.google.com/github/Ambreenkkhan/Modern-AI-Pyton-Assignment-4/blob/main/01_expressions.ipynb\" target=\"_parent\"><img src=\"https://colab.research.google.com/assets/colab-badge.svg\" alt=\"Open In Colab\"/></a>"
      ]
    },
    {
      "cell_type": "code",
      "execution_count": null,
      "metadata": {
        "colab": {
          "base_uri": "https://localhost:8080/"
        },
        "id": "Pu2RjvPlPSP8",
        "outputId": "8b895c24-dc86-4819-a5bf-aab580c333cf"
      },
      "outputs": [
        {
          "name": "stdout",
          "output_type": "stream",
          "text": [
            "01_dicesimulator\n",
            "Simulates rolling two dice three times and demonstrates variable scope:\n",
            "die1 in main() starts as: str10 \n",
            "Total of two dice: 5\n",
            "Total of two dice: 7\n",
            "Total of two dice: 10\n",
            "die1 in main() is: 10\n"
          ]
        }
      ],
      "source": [
        "print(\"01_dicesimulator\")\n",
        "# This program Simulates rolling two dice three times and demonstrates variable scope:\n",
        "\n",
        "# Import the random library which lets us simulate random things like dice!\n",
        "import random\n",
        "\n",
        "# Number of sides on each die to roll\n",
        "NUM_SIDES = 6\n",
        "\n",
        "def roll_dice():\n",
        " #   Simulates rolling two dice and prints their total\n",
        "\n",
        "      die1: int = random.randint(1, NUM_SIDES)\n",
        "    die2: int = random.randint(1, NUM_SIDES)\n",
        "    total: int = die1 + die2\n",
        "    print(\"Total of two dice:\", total)\n",
        "\n",
        "def main():\n",
        "    die1: int = 10\n",
        "    print(f\"die1 in main() starts as: str{die1} \" )\n",
        "    roll_dice()\n",
        "    roll_dice()\n",
        "    roll_dice()\n",
        "    print(\"die1 in main() is: \" + str(die1))\n",
        "\n",
        "# call the main() function.\n",
        "if __name__ == '__main__':\n",
        "    main()\n"
      ]
    },
    {
      "cell_type": "code",
      "execution_count": null,
      "metadata": {
        "colab": {
          "base_uri": "https://localhost:8080/"
        },
        "id": "sFQJUAAcbg49",
        "outputId": "9325c79d-cea4-4e17-84ef-76e24e1c477c"
      },
      "outputs": [
        {
          "name": "stdout",
          "output_type": "stream",
          "text": [
            "02_e=mc2:\n",
            "Enter kilos of mass: 100\n",
            "e = m * C^2...\n",
            "m = 100.0 kg\n",
            "C = 299792458 m/s\n",
            "8.987551787368176e+18 joules of energy!\n"
          ]
        }
      ],
      "source": [
        "print(\"02_e=mc2:\")\n",
        "C: int = 299792458  # The speed of light in m/s\n",
        "\n",
        "def main():\n",
        "    mass_in_kg: float = float(input(\"Enter kilos of mass: \"))\n",
        "\n",
        "    # Calculate energy\n",
        "    # equivalently energy = mass * (C ** 2)\n",
        "    # using the ** operator to raise C to the power of 2\n",
        "    energy_in_joules: float = mass_in_kg * (C ** 2)\n",
        "\n",
        "    # Display work to the user\n",
        "    print(\"e = m * C^2...\")\n",
        "    print(\"m = \" + str(mass_in_kg) + \" kg\")\n",
        "    print(\"C = \" + str(C) + \" m/s\")\n",
        "\n",
        "    print(str(energy_in_joules) + \" joules of energy!\")\n",
        "\n",
        "# call the main() function.\n",
        "if __name__ == '__main__':\n",
        "    main()"
      ]
    },
    {
      "cell_type": "code",
      "source": [
        "print(\"03_feet_to_inches\")\n",
        "# print: This program converts feet to inches using a constant conversion factor of 12 inches per foot:\n",
        "\n",
        "INCHES_IN_FOOT = 12  # Conversion factor. There are 12 inches for 1 foot.\n",
        "\n",
        "def main():\n",
        "    feet: float = float(input(\"Enter number of feet: \"))  # Get the number of feet, make sure to cast it to a float!\n",
        "    inches: float = feet * INCHES_IN_FOOT  # Perform the conversion\n",
        "    print(\"That is\", inches, \"inches!\")\n",
        "\n",
        "# call the main() function.\n",
        "if __name__ == '__main__':\n"
      ],
      "metadata": {
        "colab": {
          "base_uri": "https://localhost:8080/"
        },
        "id": "_ItmYXAijsVr",
        "outputId": "5c3cbd64-5653-45cd-a309-936fffac9418"
      },
      "execution_count": 1,
      "outputs": [
        {
          "output_type": "stream",
          "name": "stdout",
          "text": [
            "03_feet_to_inches\n",
            "Enter number of feet: 4\n",
            "That is 48.0 inches!\n"
          ]
        }
      ]
    },
    {
      "cell_type": "code",
      "execution_count": null,
      "metadata": {
        "colab": {
          "base_uri": "https://localhost:8080/"
        },
        "id": "rgRCo8zNLn7o",
        "outputId": "40fe6d4d-1626-4efb-870a-59e194ca05c2"
      },
      "outputs": [
        {
          "name": "stdout",
          "output_type": "stream",
          "text": [
            "04_pythagorean_theorem:\n",
            "This Program Calculates the hypotenuse of a right triangle using the Pythagorean theorem:\n",
            "Enter the length of AB: 45\n",
            "Enter the length of AC: 55\n",
            "The length of BC (the hypotenuse) is: 71.06\n"
          ]
        }
      ],
      "source": [
        "import math\n",
        "print(\"04_pythagorean_theorem:\")\n",
        "# This Program Calculates the hypotenuse of a right triangle using the Pythagorean theorem:\n",
        "def main():\n",
        "    # Get the lengths of the two perpendicular sides\n",
        "    ab = float(input(\"Enter the length of AB: \"))\n",
        "    ac = float(input(\"Enter the length of AC: \"))\n",
        "\n",
        "    # Calculate the hypotenuse using the Pythagorean theorem\n",
        "    bc = math.sqrt(ab ** 2 + ac ** 2)\n",
        "\n",
        "    # Display the result\n",
        "    print(f\"The length of BC (the hypotenuse) is: {bc:.2f}\")\n",
        "\n",
        "# Call the main function\n",
        "if __name__ == '__main__':\n",
        "    main()\n",
        "\n"
      ]
    },
    {
      "cell_type": "code",
      "execution_count": null,
      "metadata": {
        "colab": {
          "base_uri": "https://localhost:8080/"
        },
        "id": "eRtDgTF51TZi",
        "outputId": "84c42b6d-3af7-4a10-e7c4-471eeaec30e9"
      },
      "outputs": [
        {
          "name": "stdout",
          "output_type": "stream",
          "text": [
            "05_remainder_division\n",
            "Please enter an integer to be divided: 444\n",
            "Please enter an integer to divide by: 5\n",
            "The result of this division is: 88 with a remainder of: 4\n"
          ]
        }
      ],
      "source": [
        "print(\"05_remainder_division\")\n",
        "\n",
        "def main():\n",
        "    # Get the numbers we want to divide\n",
        "    dividend = int(input(\"Please enter an integer to be divided: \"))\n",
        "    divisor = int(input(\"Please enter an integer to divide by: \"))\n",
        "\n",
        "    quotient = dividend // divisor  # Divide with no remainder/decimals (integer division)\n",
        "    remainder = dividend % divisor  # Get the remainder of the division (modulo)\n",
        "\n",
        "    print(f\"The result of this division is: {quotient} with a remainder of: {remainder}\")\n",
        "\n",
        "# call the main() function.\n",
        "if __name__ == '__main__':\n",
        "    main()"
      ]
    },
    {
      "cell_type": "code",
      "execution_count": null,
      "metadata": {
        "colab": {
          "base_uri": "https://localhost:8080/"
        },
        "id": "Yz4YqriaRhbj",
        "outputId": "bc7bb0cf-fdfe-40e2-93d7-d4fb695f5664"
      },
      "outputs": [
        {
          "name": "stdout",
          "output_type": "stream",
          "text": [
            "06_rolldice\n",
            "Dice have 6 sides each.\n",
            "First die: 6\n",
            "Second die: 3\n",
            "Total of two dice: 9\n"
          ]
        }
      ],
      "source": [
        "print(\"06_rolldice\")\n",
        "# Simulate rolling two dice, and prints results of each roll as well as the total.\n",
        "\n",
        "# Import the random library which lets us simulate random things like dice!\n",
        "import random\n",
        "\n",
        "# Number of sides on each die to roll\n",
        "NUM_SIDES: int = 6\n",
        "\n",
        "def main():\n",
        "    # Setting a seed is useful for debugging (uncomment the line below to do so!)\n",
        "    # random.seed(1)\n",
        "\n",
        "    # Roll die\n",
        "    die1: int = random.randint(1, NUM_SIDES)\n",
        "    die2: int = random.randint(1, NUM_SIDES)\n",
        "\n",
        "    # Get their total\n",
        "    total: int = die1 + die2\n",
        "\n",
        "    # Print out the results\n",
        "    print(\"Dice have\", NUM_SIDES, \"sides each.\")\n",
        "    print(\"First die:\", die1)\n",
        "    print(\"Second die:\", die2)\n",
        "    print(\"Total of two dice:\", total)\n",
        "\n",
        "# call the main() function.\n",
        "if __name__ == '__main__':\n",
        "    main()\n"
      ]
    },
    {
      "cell_type": "code",
      "execution_count": 3,
      "metadata": {
        "colab": {
          "base_uri": "https://localhost:8080/"
        },
        "id": "2nnTg7ENV3aV",
        "outputId": "b6fcd164-bb16-4153-d39e-52ecc705c1dc"
      },
      "outputs": [
        {
          "output_type": "stream",
          "name": "stdout",
          "text": [
            "07_seconds_in_year\n",
            "There are 31536000 seconds in a year!\n"
          ]
        }
      ],
      "source": [
        "print(\"07_seconds_in_year\")\n",
        "# Useful constants to help make the math easier and cleaner!\n",
        "DAYS_PER_YEAR: int = 365\n",
        "HOURS_PER_DAY: int = 24\n",
        "MIN_PER_HOUR: int = 60\n",
        "SEC_PER_MIN: int = 60\n",
        "\n",
        "def main():\n",
        "    # We c{an get the number of seconds per year by multiplying the handy constants above!\n",
        "    seconds_per_year: int = DAYS_PER_YEAR * HOURS_PER_DAY * MIN_PER_HOUR * SEC_PER_MIN\n",
        "    print(\"There are\", seconds_per_year, \"seconds in a year!\")\n",
        "\n",
        "# call the main() function.\n",
        "if __name__ == '__main__':\n",
        "    main()"
      ]
    },
    {
      "cell_type": "code",
      "execution_count": 4,
      "metadata": {
        "colab": {
          "base_uri": "https://localhost:8080/"
        },
        "id": "QNIT7NnVZesb",
        "outputId": "231713df-b8d4-422f-ca7c-5bc1c1a5c230"
      },
      "outputs": [
        {
          "output_type": "stream",
          "name": "stdout",
          "text": [
            "08_tiny_mad_lib\n",
            "Please type an adjective and press enter: Silky \n",
            "Please type a noun and press enter: Elephant\n",
            "Please type a verb and press enter: Singing and Dancing\n",
            "Code in Place is fun. I learned to program and used Python to make my Silky  Elephant Singing and Dancing\n",
            "There are 31536000 seconds in a year!\n"
          ]
        }
      ],
      "source": [
        "print(\"08_tiny_mad_lib\")\n",
        " # A program which prompts the user for an adjective, then a noun, then a verb, and then prints a fun sentence with those words!\n",
        "\n",
        "# Constant sentence start\n",
        "SENTENCE_START = \"Code in Place is fun. I learned to program and used Python to make my\"\n",
        "\n",
        "# Ask the user for input\n",
        "adjective = input(\"Please type an adjective and press enter: \")\n",
        "noun = input(\"Please type a noun and press enter: \")\n",
        "verb = input(\"Please type a verb and press enter: \")\n",
        "\n",
        "# Combine everything into the final sentence\n",
        "print(f\"{SENTENCE_START} {adjective} {noun} {verb}\")\n",
        "\n",
        "# call the main() function.\n",
        "if __name__ == '__main__':\n",
        "    main()"
      ]
    }
  ],
  "metadata": {
    "colab": {
      "provenance": [],
      "authorship_tag": "ABX9TyPjKbDEcZctZY+lR7Y/SUQM",
      "include_colab_link": true
    },
    "kernelspec": {
      "display_name": "Python 3",
      "name": "python3"
    },
    "language_info": {
      "name": "python"
    }
  },
  "nbformat": 4,
  "nbformat_minor": 0
}