{
  "nbformat": 4,
  "nbformat_minor": 0,
  "metadata": {
    "colab": {
      "provenance": [],
      "authorship_tag": "ABX9TyPwpNWVv667S+u6CZKlxig0",
      "include_colab_link": true
    },
    "kernelspec": {
      "name": "python3",
      "display_name": "Python 3"
    },
    "language_info": {
      "name": "python"
    }
  },
  "cells": [
    {
      "cell_type": "markdown",
      "metadata": {
        "id": "view-in-github",
        "colab_type": "text"
      },
      "source": [
        "<a href=\"https://colab.research.google.com/github/Ambreenkkhan/Modern-AI-Pyton-Assignment-4/blob/main/03_if_statements.ipynb\" target=\"_parent\"><img src=\"https://colab.research.google.com/assets/colab-badge.svg\" alt=\"Open In Colab\"/></a>"
      ]
    },
    {
      "cell_type": "code",
      "source": [
        "print(\"01_print_events:\")\n",
        "print(\"---------------\")\n",
        "def main():\n",
        "    # This for-loop start at 0 and counts up to 19 (for a total of 20 numbers)\n",
        "    for i in range(20):\n",
        "        print(i * 2, end =\" \")  # Print double the value of 'i' and keep output on the same line, separated by a space\n",
        "\n",
        "if __name__ == \"__main__\":\n",
        "    main()"
      ],
      "metadata": {
        "colab": {
          "base_uri": "https://localhost:8080/"
        },
        "id": "s3iFCCKlfKBl",
        "outputId": "caab8a5d-de91-4087-e0ba-bdbcdbd30d5c"
      },
      "execution_count": null,
      "outputs": [
        {
          "output_type": "stream",
          "name": "stdout",
          "text": [
            "01_print_events:\n",
            "---------------\n",
            "0 2 4 6 8 10 12 14 16 18 20 22 24 26 28 30 32 34 36 38 "
          ]
        }
      ]
    },
    {
      "cell_type": "code",
      "source": [
        "print(\"02_international_voting_age:\")\n",
        "print(\"----------------------------\")\n",
        "\n",
        "# Set the voting age for each constituency\n",
        "PETURKSBOUIPO_AGE = 16\n",
        "STANLAU_AGE = 25\n",
        "MAYENGUA_AGE = 48\n",
        "\n",
        "def main():\n",
        "    # Get the user's age\n",
        "    user_age = int(input(\"How old are you? \"))\n",
        "\n",
        "    # Check if the user can vote in Peturksbouipo\n",
        "    if user_age >= PETURKSBOUIPO_AGE:\n",
        "        print(f\"You can vote in Peturksbouipo where the voting age is {PETURKSBOUIPO_AGE}.\")\n",
        "\n",
        "    else:\n",
        "        print(f\"You cannot vote in Peturksbouipo where the voting age is {PETURKSBOUIPO_AGE}.\")\n",
        "\n",
        "    # Check if the user can vote in Stanlau\n",
        "    if user_age >= STANLAU_AGE:\n",
        "        print(f\"You can vote in Stanlau where the voting age is {STANLAU_AGE}.\")\n",
        "    else:\n",
        "        print(f\"You cannot vote in Stanlau where the voting age is {STANLAU_AGE}.\")\n",
        "\n",
        "    # Check if user can vote in Mayengua\n",
        "    if user_age >= MAYENGUA_AGE:\n",
        "        print(f\"You can vote in Mayengua where the voting age is {MAYENGUA_AGE}. \")\n",
        "    else:\n",
        "        print(f\"You cannot vote in Mayengua where the voting age is {MAYENGUA_AGE} .\")\n",
        "\n",
        "if __name__ == '__main__':\n",
        "    main()"
      ],
      "metadata": {
        "colab": {
          "base_uri": "https://localhost:8080/"
        },
        "id": "IiRQxHE4HP4k",
        "outputId": "bfb8cb08-6e1e-4f58-b7ca-17011df667c8"
      },
      "execution_count": null,
      "outputs": [
        {
          "output_type": "stream",
          "name": "stdout",
          "text": [
            "02_international_voting_age:\n",
            "----------------------------\n",
            "How old are you? 39\n",
            "You can vote in Peturksbouipo where the voting age is 16.\n",
            "You can vote in Stanlau where the voting age is 25.\n",
            "You cannot vote in Mayengua where the voting age is 48 .\n"
          ]
        }
      ]
    },
    {
      "cell_type": "code",
      "source": [
        "print(\"03_leap_year:\")\n",
        "print(\"-------------\")\n",
        "def main():\n",
        "    # Get the year to check from the user\n",
        "    year = int(input('Enter the year, please: '))\n",
        "\n",
        "    if year % 4 == 0:  # Checking whether the provided year is evenly divisibly by 4\n",
        "        if year % 100 == 0:  # Checking whether the provided year is evenly divisibly by 100\n",
        "            if year % 400 == 0:  # Checking whether the provided year is evenly divisibly by 400\n",
        "                print(\"That particular year is a leap year!\")\n",
        "            else:  # (Not divisible by 400)\n",
        "                print(\"That particular year is not a leap year.\")\n",
        "        else:  # (Not divisible by 100)\n",
        "            print(\"That particular year is a leap year!\")\n",
        "    else:  # (Not divisible by 4)\n",
        "        print(\"That particular year is not a leap year.\")\n",
        "\n",
        "\n",
        "if __name__ == '__main__':\n",
        "    main()"
      ],
      "metadata": {
        "colab": {
          "base_uri": "https://localhost:8080/"
        },
        "id": "NnQ5fz6FR6JH",
        "outputId": "44baed45-9989-4f57-c0ba-855428ae5d1a"
      },
      "execution_count": null,
      "outputs": [
        {
          "output_type": "stream",
          "name": "stdout",
          "text": [
            "03_leap_year:\n",
            "-------------\n",
            "Enter the year, please: 2000\n",
            "That particular year is a leap year!\n"
          ]
        }
      ]
    },
    {
      "cell_type": "code",
      "source": [
        "print(\"04_tall_enough_to_ride:\")\n",
        "print(\"---------------\")\n",
        "\n",
        "# Define a constant for the minimum height required to ride (in arbitrary units)\n",
        "MINIMUM_HEIGHT: int = 50  # You must be at least 50 units tall to ride\n",
        "\n",
        "# Main function to check if the user is tall enough\n",
        "def main():\n",
        "    # Ask the user to enter their height and convert it to a float (in case they enter decimals)\n",
        "    height = float(input(\"How tall are you? \"))\n",
        "\n",
        "    # Check if the user's height is greater than or equal to the minimum height\n",
        "    if height >= MINIMUM_HEIGHT:\n",
        "        # If yes, allow them to ride\n",
        "        print(\"You're tall enough to ride!\")\n",
        "    else:\n",
        "        # If not, encourage them to try again next year\n",
        "        print(\"You're not tall enough to ride, but maybe next year!\")\n",
        "\n",
        "if __name__ == '__main__':\n",
        "    main()"
      ],
      "metadata": {
        "colab": {
          "base_uri": "https://localhost:8080/"
        },
        "id": "ofPyWEIk3G57",
        "outputId": "f40d8e3a-f605-4c48-aac8-331f866dd654"
      },
      "execution_count": 6,
      "outputs": [
        {
          "output_type": "stream",
          "name": "stdout",
          "text": [
            "04_tall_enough_to_ride:\n",
            "---------------\n",
            "How tall are you? 51\n",
            "You're tall enough to ride!\n"
          ]
        }
      ]
    },
    {
      "cell_type": "code",
      "source": [
        "print(\"05_random_numbers: \")\n",
        "print(\"------------------\")\n",
        "import random  # Import the random module\n",
        "\n",
        "def main():\n",
        "    for _ in range(10):  # Loop 10 times\n",
        "        number = random.randint(1, 100)  # Generate a random number from 1 to 100\n",
        "        print(number, end=\" \")  # Print the number on the same line with a space\n",
        "\n",
        "# Run the main function\n",
        "if __name__ == '__main__':\n",
        "  main()\n"
      ],
      "metadata": {
        "colab": {
          "base_uri": "https://localhost:8080/"
        },
        "id": "msXZUVYx5TJy",
        "outputId": "0cdcbf7e-eec9-42bb-905b-d8c2360e1e1e"
      },
      "execution_count": 22,
      "outputs": [
        {
          "output_type": "stream",
          "name": "stdout",
          "text": [
            "05_random_numbers: \n",
            "------------------\n",
            "93 8 42 8 75 32 61 27 50 4 "
          ]
        }
      ]
    }
  ]
}