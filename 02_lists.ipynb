{
  "nbformat": 4,
  "nbformat_minor": 0,
  "metadata": {
    "colab": {
      "provenance": [],
      "authorship_tag": "ABX9TyMviLNlXXOBVItHUwLlTnqF",
      "include_colab_link": true
    },
    "kernelspec": {
      "name": "python3",
      "display_name": "Python 3"
    },
    "language_info": {
      "name": "python"
    }
  },
  "cells": [
    {
      "cell_type": "markdown",
      "metadata": {
        "id": "view-in-github",
        "colab_type": "text"
      },
      "source": [
        "<a href=\"https://colab.research.google.com/github/Ambreenkkhan/Modern-AI-Pyton-Assignment-4/blob/main/02_lists.ipynb\" target=\"_parent\"><img src=\"https://colab.research.google.com/assets/colab-badge.svg\" alt=\"Open In Colab\"/></a>"
      ]
    },
    {
      "cell_type": "code",
      "execution_count": null,
      "metadata": {
        "id": "BX6m4cJIr6mB",
        "outputId": "b0312b99-fdbe-41b5-b1aa-34d248c0f066",
        "colab": {
          "base_uri": "https://localhost:8080/"
        }
      },
      "outputs": [
        {
          "output_type": "stream",
          "name": "stdout",
          "text": [
            "01_add_many_number:\n",
            "The Sum is: 15\n"
          ]
        }
      ],
      "source": [
        "print(\"01_add_many_number:\")\n",
        "\n",
        "def add_many_numbers(numbers) -> int:\n",
        "\n",
        "  #  Takes in a list of numbers and returns the sum of those numbers.\n",
        "\n",
        "    total_so_far: int = 0  # Initialize a variable to store the running total\n",
        "\n",
        "    # Loop through each number in the input list\n",
        "    for number in numbers:\n",
        "        total_so_far += number  # Add each number to the running total\n",
        "\n",
        "    return total_so_far  # Return the final total sum\n",
        "\n",
        "# Define the main function which will run when the script is executed\n",
        "def main():\n",
        "    numbers: list[int] = [1, 2, 3, 4, 5]  # Create a list of integers to be summed\n",
        "    sum_of_numbers: int = add_many_numbers(numbers)  # Call the function to get the sum\n",
        "    print(f\"The Sum is: {sum_of_numbers}\")  # Display the result to the user\n",
        "\n",
        "# This line ensures that the main function runs only if this script is executed directly\n",
        "if __name__ == '__main__':\n",
        "    main()\n"
      ]
    },
    {
      "cell_type": "code",
      "source": [
        "print(\"02_double_list:\")\n",
        "def main():\n",
        "    numbers: list[int] = [1, 2, 3, 4]  # Creates a list of numbers\n",
        "\n",
        "    for i in range(len(numbers)):  # Loop through the indices of the list\n",
        "        elem_at_index = numbers[i]  # Get the element at index i in the numbers list\n",
        "        numbers[i] = elem_at_index * 2  # Set the element at index i to be equal to the previous element times 2\n",
        "\n",
        "    print(numbers)  # This should print the doubled list\n",
        "\n",
        "\n",
        "if __name__ == '__main__':\n",
        "    main()"
      ],
      "metadata": {
        "colab": {
          "base_uri": "https://localhost:8080/"
        },
        "id": "zmANhhJO0AEx",
        "outputId": "2c1f8a12-c258-49fc-c8db-e5c4252c9782"
      },
      "execution_count": null,
      "outputs": [
        {
          "output_type": "stream",
          "name": "stdout",
          "text": [
            "02_double_list\n",
            "[2, 4, 6, 8]\n"
          ]
        }
      ]
    },
    {
      "cell_type": "code",
      "source": [
        "print(\"03_erase_canvas:\")\n",
        "\n",
        "'''This program cannot be run on Google Colab because it relies on a graphical\n",
        "user interface (GUI) for rendering the canvas and interacting with it.\n",
        "Google Colab does not support GUI-based applications.\n",
        "I have created this program in Visual Studio Code and submitted it in the same repository. '''\n",
        "\n"
      ],
      "metadata": {
        "id": "Q-vImpKBxe_u"
      },
      "execution_count": null,
      "outputs": []
    },
    {
      "cell_type": "code",
      "source": [
        "print(\"04_flowing_with_data_structures:\")\n",
        "\n",
        "# Function to add the same data three times to a list.\n",
        "def add_three_copies(my_list, data):\n",
        "    # Loop to append the data to the list 3 times.\n",
        "    for i in range(3):\n",
        "        my_list.append(data)  # Appends the 'data' to 'my_list' in each iteration.\n",
        "\n",
        "# No need to edit code past this point.\n",
        "\n",
        "# Main function where the program runs.\n",
        "def main():\n",
        "    # Asking the user for a message to be copied into the list.\n",
        "    message = input(\"Enter a message to copy: \")\n",
        "\n",
        "    # Initialize an empty list to store the copies.\n",
        "    my_list = []\n",
        "\n",
        "    # Print the list before adding any data to it.\n",
        "    print(\"List before:\", my_list)\n",
        "\n",
        "    # Call the add_three_copies function to add 'message' 3 times to 'my_list'.\n",
        "    add_three_copies(my_list, message)\n",
        "\n",
        "    # Print the list after adding the data.\n",
        "    print(\"List after:\", my_list)\n",
        "\n",
        "# This ensures the main function runs when the script is executed directly.\n",
        "if __name__ == \"__main__\":\n",
        "    main()\n"
      ],
      "metadata": {
        "colab": {
          "base_uri": "https://localhost:8080/"
        },
        "id": "IOidq79VLw4w",
        "outputId": "d5f3375f-583a-45e6-b8ab-4b6a334437df"
      },
      "execution_count": null,
      "outputs": [
        {
          "output_type": "stream",
          "name": "stdout",
          "text": [
            "04_flowing_with_data_structures:\n",
            "Enter a message to copy: Hello World!\n",
            "List before: []\n",
            "List after: ['Hello World!', 'Hello World!', 'Hello World!']\n"
          ]
        }
      ]
    },
    {
      "cell_type": "code",
      "source": [
        "print(\"05_get_first_element:\")\n",
        "# Function to print the first element of the provided list.\n",
        "def get_first_element(lst):\n",
        "\n",
        "  # Access and print the first element (index 0) of the list.\n",
        "    print(lst[0])\n",
        "\n",
        "# Function to prompt the user for list elements and return the list.\n",
        "def get_lst():\n",
        "    # Initialize an empty list to store the user inputs.\n",
        "    lst = []\n",
        "\n",
        "    # Prompt the user to enter an element for the list.\n",
        "    elem: str = input(\"Please enter an element of the list or press enter to stop. \")\n",
        "\n",
        "    # Keep prompting for elements until the user presses enter without entering anything.\n",
        "    while elem != \"\":\n",
        "        lst.append(elem)  # Add the entered element to the list.\n",
        "        # Prompt for another element.\n",
        "        elem = input(\"Please enter an element of the list or press enter to stop. \")\n",
        "\n",
        "    # Return the list that was created with user inputs.\n",
        "    return lst\n",
        "\n",
        "def main():\n",
        "    # Call the get_lst function to create a list from user input.\n",
        "    lst = get_lst()\n",
        "\n",
        "    # Call get_first_element function to print the first element of the list.\n",
        "    get_first_element(lst)\n",
        "\n",
        "if __name__ == '__main__':\n",
        "    main()\n"
      ],
      "metadata": {
        "colab": {
          "base_uri": "https://localhost:8080/"
        },
        "id": "dI4jan1_Q_dL",
        "outputId": "b1a5276e-59d8-4abd-b3af-f824e7d52902"
      },
      "execution_count": null,
      "outputs": [
        {
          "output_type": "stream",
          "name": "stdout",
          "text": [
            "05_get_first_element:\n",
            "Please enter an element of the list or press enter to stop. Apple\n",
            "Please enter an element of the list or press enter to stop. Orange\n",
            "Please enter an element of the list or press enter to stop. Pineapple\n",
            "Please enter an element of the list or press enter to stop. \n",
            "Apple\n"
          ]
        }
      ]
    },
    {
      "cell_type": "code",
      "source": [
        "print(\"06_get_last_element:\")\n",
        "\n",
        "def get_last_element(lst):\n",
        "    # Access and print the last element (index 0) of the list.\n",
        "    print(lst[-1])\n",
        "\n",
        "def get_lst():\n",
        "\n",
        "    # Initialize an empty list to store the user inputs.\n",
        "    lst = []\n",
        "\n",
        "    # Prompt the user to enter an element for the list.\n",
        "    elem: str = input(\"Please enter an element of the list or press enter to stop. \")\n",
        "\n",
        "    # Keep prompting for elements until the user presses enter without entering anything.\n",
        "    while elem != \"\":\n",
        "        lst.append(elem)  # Add the entered element to the list.\n",
        "        # Prompt for another element.\n",
        "        elem = input(\"Please enter an element of the list or press enter to stop. \")\n",
        "\n",
        "    # Return the list that was created with user inputs.\n",
        "    return lst\n",
        "def main():\n",
        "    lst = get_lst()\n",
        "    get_last_element(lst)\n",
        "\n",
        "if __name__ == '__main__':\n",
        "    main()\n",
        "\n"
      ],
      "metadata": {
        "colab": {
          "base_uri": "https://localhost:8080/"
        },
        "id": "39OJT6B_Skky",
        "outputId": "1ba7812d-f453-4095-8d4a-6dfbe7ba1900"
      },
      "execution_count": null,
      "outputs": [
        {
          "output_type": "stream",
          "name": "stdout",
          "text": [
            "06_get_last_element:\n",
            "Please enter an element of the list or press enter to stop. 1\n",
            "Please enter an element of the list or press enter to stop. 2\n",
            "Please enter an element of the list or press enter to stop. 3\n",
            "Please enter an element of the list or press enter to stop. 4\n",
            "Please enter an element of the list or press enter to stop. \n",
            "4\n"
          ]
        }
      ]
    },
    {
      "cell_type": "code",
      "source": [
        "print(\"07_get_list:\")\n",
        "\n",
        "def main():\n",
        "    lst = []  # Make an empty list to store things in\n",
        "\n",
        "    val = input(\"Enter a value: \")  # Get an initial value\n",
        "    while val:  # While the user input isn't an empty value\n",
        "        lst.append(val) # Add val to list\n",
        "        val = input(\"Enter a value: \")  # Get the next value to add\n",
        "\n",
        "    print(\"Here's the list:\", lst)\n",
        "\n",
        "\n",
        "if __name__ == '__main__':\n",
        "    main()\n"
      ],
      "metadata": {
        "colab": {
          "base_uri": "https://localhost:8080/"
        },
        "id": "OojhzWpmtR_y",
        "outputId": "d51b3a41-ef6f-45d1-fc1d-82286042338d"
      },
      "execution_count": null,
      "outputs": [
        {
          "output_type": "stream",
          "name": "stdout",
          "text": [
            "07_get_list:\n",
            "Enter a value: a\n",
            "Enter a value: l\n",
            "Enter a value: e\n",
            "Enter a value: e\n",
            "Enter a value: n\n",
            "Enter a value: a\n",
            "Enter a value: \n",
            "Here's the list: ['a', 'l', 'e', 'e', 'n', 'a']\n"
          ]
        }
      ]
    },
    {
      "cell_type": "code",
      "source": [
        "print(\"08_shorten:\")\n",
        "\n",
        "MAX_LENGTH : int = 3 # Define the maximum allowed length of the list\n",
        "\n",
        "# This function removes elements from the end of the list until its length becomes MAX_LENGTH\n",
        "\n",
        "def shorten(lst):\n",
        "    while len(lst) > MAX_LENGTH:\n",
        "        last_elem = lst.pop() # Remove the last element from the list\n",
        "        print(last_elem) # Print the removed element\n",
        "\n",
        "\n",
        "def get_lst():# This function takes input from the user to build a list\n",
        "\n",
        "    lst = []  # lst will store the elements entered by the user\n",
        "    elem = input(\"Please enter an element of the list or press enter to stop. \") # Ask the user to enter an element\n",
        "    while elem != \"\" :  # Keep asking for elements until the user presses Enter without typing anything\n",
        "        lst.append(elem)  # Add the entered element to the list\n",
        "        elem = input(\"Please enter an element of the list or press enter to stop. \")\n",
        "    return lst  # Return the complete list\n",
        "\n",
        "def main(): # Main function to run the program\n",
        "    lst = get_lst() # Get the list from user input\n",
        "    shorten(lst)  # Call the shorten function to trim the list if necessary\n",
        "\n",
        "\n",
        "if __name__ == '__main__':\n",
        "    main()"
      ],
      "metadata": {
        "colab": {
          "base_uri": "https://localhost:8080/"
        },
        "id": "2GRly6KZuvIO",
        "outputId": "1d35072b-2a9a-4f44-c105-5d3bcc4fa55e"
      },
      "execution_count": 2,
      "outputs": [
        {
          "output_type": "stream",
          "name": "stdout",
          "text": [
            "08_shorten:\n",
            "Please enter an element of the list or press enter to stop. silver\n",
            "Please enter an element of the list or press enter to stop. Gold\n",
            "Please enter an element of the list or press enter to stop. Copper\n",
            "Please enter an element of the list or press enter to stop. Steel\n",
            "Please enter an element of the list or press enter to stop. \n",
            "Steel\n"
          ]
        }
      ]
    }
  ]
}