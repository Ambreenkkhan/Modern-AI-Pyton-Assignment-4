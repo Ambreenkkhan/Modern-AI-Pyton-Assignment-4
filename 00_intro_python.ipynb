{
  "nbformat": 4,
  "nbformat_minor": 0,
  "metadata": {
    "colab": {
      "provenance": [],
      "authorship_tag": "ABX9TyN2q2HVjVCHO9WbOAoI3K6K",
      "include_colab_link": true
    },
    "kernelspec": {
      "name": "python3",
      "display_name": "Python 3"
    },
    "language_info": {
      "name": "python"
    }
  },
  "cells": [
    {
      "cell_type": "markdown",
      "metadata": {
        "id": "view-in-github",
        "colab_type": "text"
      },
      "source": [
        "<a href=\"https://colab.research.google.com/github/Ambreenkkhan/Modern-AI-Pyton-Assignment-4/blob/main/00_intro_python.ipynb\" target=\"_parent\"><img src=\"https://colab.research.google.com/assets/colab-badge.svg\" alt=\"Open In Colab\"/></a>"
      ]
    },
    {
      "cell_type": "code",
      "execution_count": null,
      "metadata": {
        "colab": {
          "base_uri": "https://localhost:8080/"
        },
        "id": "q40aUhYEkEO7",
        "outputId": "80acdc19-a9a6-4348-bfa1-afe5b456e205"
      },
      "outputs": [
        {
          "output_type": "stream",
          "name": "stdout",
          "text": [
            "01_add_two_numbers\n",
            "** This program adds two numbers: **\n",
            "\n",
            "Enter first number: 45\n",
            "Enter second number: 5\n",
            "Ans:  45 + 5 = 50\n"
          ]
        }
      ],
      "source": [
        "print(\"01_add_two_numbers\")\n",
        "def add():\n",
        "  print(\"** This program adds two numbers: **\")\n",
        "  print(\"\")\n",
        "  first_number = int( input(\"Enter first number: \"))\n",
        "  second_number = int(input(\"Enter second number: \"))\n",
        "  sum = int(first_number + second_number)\n",
        "  print(f'Ans:  {first_number} + {second_number} = {sum}')\n",
        "\n",
        "if __name__ == \"__main__\":\n",
        "  add()\n"
      ]
    },
    {
      "cell_type": "code",
      "source": [
        "print(\"** 02_agreement_bot: **\")\n",
        "print()\n",
        "\n",
        "def bot():\n",
        "  animal = str(input(\"What's your favorite animal? \"))\n",
        "  print(f'My favorite animal is also {animal}!')\n",
        "\n",
        "if __name__ == \"__main__\":\n",
        "  bot()"
      ],
      "metadata": {
        "colab": {
          "base_uri": "https://localhost:8080/"
        },
        "id": "149Ui1GAGGJ_",
        "outputId": "51bf46bc-596d-4840-ad85-520726ed97ae"
      },
      "execution_count": null,
      "outputs": [
        {
          "output_type": "stream",
          "name": "stdout",
          "text": [
            "** 02_agreement_bot: **\n",
            "\n",
            "What's your favorite animal? Cat\n",
            "My favorite animal is also Cat!\n"
          ]
        }
      ]
    },
    {
      "cell_type": "markdown",
      "source": [],
      "metadata": {
        "id": "td-I6RPiKOVu"
      }
    },
    {
      "cell_type": "code",
      "source": [
        "print(\"03_fahrenheit_to_celsius:\")\n",
        "\n",
        "def fahrenheit_to_celsius():\n",
        "  print(\"** This program converts Fahrenheit to Celsius: **\")\n",
        "  print()\n",
        "  fahrenheit = float(input(\"Enter temperature in Fahrenheit: \"))\n",
        "  celsius = (fahrenheit - 32) * 5/9\n",
        "  print(f'Temperature {fahrenheit}°F is equal to {celsius:.2f}°C')\n",
        "\n",
        "if __name__ == \"__main__\":\n",
        "  fahrenheit_to_celsius()\n"
      ],
      "metadata": {
        "colab": {
          "base_uri": "https://localhost:8080/"
        },
        "id": "2NeIld34IvVu",
        "outputId": "3e3fa7bc-0e97-4444-e118-bd1fa9154e9f"
      },
      "execution_count": null,
      "outputs": [
        {
          "output_type": "stream",
          "name": "stdout",
          "text": [
            "03_fahrenheit_to_celsius:\n",
            "** This program converts Fahrenheit to Celsius: **\n",
            "\n",
            "Enter temperature in Fahrenheit: 62\n",
            "Temperature 62.0°F is equal to 16.67°C\n"
          ]
        }
      ]
    },
    {
      "cell_type": "code",
      "source": [
        "print(\"04_how_old_are_they\")\n",
        "\n",
        "print(\"** This program solves age-related riddle!\")\n",
        "\n",
        "def main():\n",
        "    anton : int = 21  # Anton's age is given as 21 years old\n",
        "    beth : int = 6 + anton  # Beth is 6 years older than Anton, so add 6 to Anton's age to get Beth's\n",
        "    chen : int = 20 + beth  # Chen is 20 years older than Beth, so add 20 to Beth's age to get Chen's\n",
        "    drew  : int= chen + anton  # Drew is as old as Chen's age plus Anton's age, so add them together\n",
        "    ethan : int = chen  # Ethan is the same age as Chen, so set Ethan's age equal to Chen's\n",
        "\n",
        "   # Print out all of the ages:\n",
        "    print(f'Anton is {anton} years old.')\n",
        "    print(f'Beth  is {beth} years old.')\n",
        "    print(f'Chen  is {chen} years old.')\n",
        "    print(f'Drew  is {drew} years old.')\n",
        "\n",
        "if __name__ == '__main__':\n",
        "    main()"
      ],
      "metadata": {
        "colab": {
          "base_uri": "https://localhost:8080/"
        },
        "id": "NJH5eupuRcoM",
        "outputId": "65e2a343-d034-4c21-c8e4-323284711243"
      },
      "execution_count": null,
      "outputs": [
        {
          "output_type": "stream",
          "name": "stdout",
          "text": [
            "04_how_old_are_they\n",
            "** This program solves age-related riddle!\n",
            "Anton is 21 years old.\n",
            "Beth  is 27 years old.\n",
            "Chen  is 47 years old.\n",
            "Drew  is 68 years old.\n"
          ]
        }
      ]
    },
    {
      "cell_type": "code",
      "source": [
        "print(\"05_triangle_perimeter\")\n",
        "print(\"** This program calculates the perimeter of a triangle **\")\n",
        "\n",
        "def main():\n",
        "  side_1 = float(input(\"What is the length of side 1? \"))\n",
        "  side_2 = float(input(\"What is the length of side 2? \"))\n",
        "  side_3 = float(input(\"What is the length of side 3? \"))\n",
        "  perimeter = side_1 + side_2 + side_3\n",
        "  print(f'The perimeter of the triangle is {perimeter}')\n",
        "\n",
        "if __name__ == '__main__':\n",
        "  main()\n",
        "\n"
      ],
      "metadata": {
        "colab": {
          "base_uri": "https://localhost:8080/"
        },
        "id": "L9B3R_mU1Jrz",
        "outputId": "97a59eb3-b468-469c-b4b6-c6ee06605b96"
      },
      "execution_count": null,
      "outputs": [
        {
          "output_type": "stream",
          "name": "stdout",
          "text": [
            "05_triangle_perimeter\n",
            "** This program calculates the perimeter of a triangle **\n",
            "What is the length of side 1? 4.5\n",
            "What is the length of side 2? 6.7\n",
            "What is the length of side 3? 5\n",
            "The perimeter of the triangle is 16.2\n"
          ]
        }
      ]
    },
    {
      "cell_type": "code",
      "source": [
        "print(\"06_square_number\")\n",
        "print(\"** This Program Ask the User for a Number and Print its Square **\")\n",
        "\n",
        "def main():\n",
        "  number =float(input(\"Enter a number: \"))\n",
        "  square = number ** 2\n",
        "  print(f'The square of {number} is {square}')\n",
        "\n",
        "if __name__ == '__main__':\n",
        "  main()\n"
      ],
      "metadata": {
        "colab": {
          "base_uri": "https://localhost:8080/"
        },
        "id": "egkYF1d45izx",
        "outputId": "36666410-10e6-4757-9a58-d80c63a02b8d"
      },
      "execution_count": null,
      "outputs": [
        {
          "output_type": "stream",
          "name": "stdout",
          "text": [
            "06_square_number\n",
            "** This Program Ask the User for a Number and Print its Square **\n",
            "Enter a number: 5.5\n",
            "The square of 5.5 is 30.25\n"
          ]
        }
      ]
    },
    {
      "cell_type": "code",
      "source": [],
      "metadata": {
        "colab": {
          "base_uri": "https://localhost:8080/"
        },
        "id": "5slTdje8dj3D",
        "outputId": "8a47ac20-9d1b-40fd-80d0-1afbf2c3992a"
      },
      "execution_count": null,
      "outputs": [
        {
          "output_type": "stream",
          "name": "stdout",
          "text": [
            "<class 'bool'>\n"
          ]
        }
      ]
    }
  ]
}